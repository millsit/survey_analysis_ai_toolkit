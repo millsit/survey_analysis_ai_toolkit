{
 "cells": [
  {
   "cell_type": "markdown",
   "metadata": {},
   "source": [
    "### This section uses AI, in paritcular we are using OpenAI's GPT-3.5 latest model\n",
    "The cost is (as of Jan 2024), USD 0.0001 per 1000 tokens which means if a prompt has say 50 words the data is 100 words, and and prompt response is 100 words, then thats 250 words (350 tokens). Say there are 200 survey entries, thats 350x200 = 70,000 tokens. So thats USD 0.007 to run a batch of 200 surveys.\n",
    "\n",
    "You will need the API key in the `.env` file as `OPENAI_API_KEY`\n",
    "\n",
    "We also use `langchain` to do all the LLM interactions, its just easier.\n",
    "It will get installed with the initil `poetry install` command.\n",
    "\n",
    "https://python.langchain.com/docs/get_started\n"
   ]
  },
  {
   "cell_type": "code",
   "execution_count": 2,
   "metadata": {},
   "outputs": [],
   "source": [
    "# Define the path for the data file (csv) as exported from Survey Monkey\n",
    "data_folder = '../survey_data/'\n",
    "# Define the survey data file\n",
    "# here we use the shortTitles version of the survey data (see data preparation)\n",
    "csv_survey = data_folder + 'survey_data_shortTitles.csv'  # Replace with desired output file path\n",
    "\n",
    "# The AI language model\n",
    "model = \"gpt-3.5-turbo-1106\"\n",
    "\n",
    "# get the API key from the environment variable\n",
    "import os\n",
    "OPENAI_API_KEY = os.environ.get(\"OPENAI_API_KEY\")\n",
    "from langchain.prompts import PromptTemplate\n",
    "from langchain_openai import ChatOpenAI\n",
    "from langchain_core.messages import HumanMessage, SystemMessage\n",
    "\n",
    "chat = ChatOpenAI(model=model)\n"
   ]
  },
  {
   "cell_type": "markdown",
   "metadata": {},
   "source": [
    "### *The following sections are all optional and tackle various aspects of the survey.*"
   ]
  },
  {
   "cell_type": "markdown",
   "metadata": {},
   "source": [
    "### 1. Creating \"profiles\" of each survey respondant\n",
    "We are going to run each record through a LLM (AI) to produce a \"profile\" of each respondant\n",
    "\n",
    "This \"profile\" could cover any kind of aspect of the respondant, and is very survey specific.\n",
    "\n",
    "In our case, we want to gather the user's work details like what they do and their responsibilities.\n",
    "\n",
    "- Determine which are the required fields for us to consider that record\n",
    "- Define a unique record id \n",
    "- Create a text with field: value pairs to feed the LLM\n",
    "- Define a prompt to feed the LLM\n"
   ]
  },
  {
   "cell_type": "code",
   "execution_count": null,
   "metadata": {},
   "outputs": [],
   "source": [
    "import pandas as pd\n",
    "\n",
    "# Load the headers from the csv file\n",
    "df = pd.read_csv(csv_survey, header=None)\n",
    "\n",
    "# Determine which are the required fields for us to consider that record\n",
    "## !! Make sure to change these to correspond to the short titles in your survey\n",
    "fields_to_use_for_profile = [\"Language\", \"RoleInRuralWaterSector\",\"CountryOfWork\", \"JobTitles\", \"JobTitle\"]\n",
    "\n",
    "# check that these required fields are actually columns in the df file\n",
    "for field in fields_to_use_for_profile:\n",
    "    if field not in df.iloc[0].values:\n",
    "        raise ValueError(f\"Field \\\"{field}\\\" not found in the csv file\")\n",
    "    \n",
    "# Define the unique record id \n",
    "unique_id = \"RespondentId\"\n",
    "\n",
    "# Define a prompt that will create a english language descriptive profile for this respondant.\n",
    "\n",
    "\n",
    "# Create a text with field: value pairs to feed the LLM\n",
    "\n",
    "# Define a prompt to feed the LLM\n"
   ]
  }
 ],
 "metadata": {
  "kernelspec": {
   "display_name": ".venv",
   "language": "python",
   "name": "python3"
  },
  "language_info": {
   "codemirror_mode": {
    "name": "ipython",
    "version": 3
   },
   "file_extension": ".py",
   "mimetype": "text/x-python",
   "name": "python",
   "nbconvert_exporter": "python",
   "pygments_lexer": "ipython3",
   "version": "3.9.18"
  }
 },
 "nbformat": 4,
 "nbformat_minor": 2
}
